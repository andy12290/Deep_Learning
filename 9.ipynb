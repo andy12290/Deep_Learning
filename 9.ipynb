{
 "cells": [
  {
   "cell_type": "markdown",
   "metadata": {},
   "source": [
    "# Scikit learn Library"
   ]
  },
  {
   "cell_type": "code",
   "execution_count": 1,
   "metadata": {
    "collapsed": false
   },
   "outputs": [
    {
     "name": "stderr",
     "output_type": "stream",
     "text": [
      "Using TensorFlow backend.\n"
     ]
    },
    {
     "name": "stdout",
     "output_type": "stream",
     "text": [
      "0.669224201585\n"
     ]
    }
   ],
   "source": [
    "import keras\n",
    "from keras.models import Sequential\n",
    "from keras.layers import Dense\n",
    "from keras.wrappers.scikit_learn import KerasClassifier\n",
    "from sklearn.model_selection import StratifiedKFold\n",
    "from sklearn.model_selection import cross_val_score\n",
    "import numpy\n",
    "\n",
    "# define model\n",
    "def create_model():\n",
    "    # create model\n",
    "    model = Sequential()\n",
    "    model.add(Dense(12, input_dim=8, activation='relu'))\n",
    "    model.add(Dense(8, activation='relu'))\n",
    "    model.add(Dense(1, activation='sigmoid'))\n",
    "    \n",
    "# Compile model\n",
    "    model.compile(loss='binary_crossentropy', optimizer='adam', metrics=['accuracy'])\n",
    "    return model\n",
    "\n",
    "# fix random seed for reproducibility\n",
    "seed = 7\n",
    "numpy.random.seed(seed)\n",
    "# load pima indians dataset\n",
    "dataset = numpy.loadtxt(\"pima-indians-diabetes.csv\", delimiter=\",\")\n",
    "# split into input (X) and output (Y) variables\n",
    "X = dataset[:,0:8]\n",
    "Y = dataset[:,8]\n",
    "\n",
    "model = KerasClassifier(build_fn=create_model,epochs=20, batch_size=10, verbose=0)\n",
    "\n",
    "# evaluate using the cross val score\n",
    "kfold = StratifiedKFold(n_splits=10, shuffle=True, random_state=seed)\n",
    "results = cross_val_score(model, X, Y, cv = kfold)\n",
    "print(results.mean())"
   ]
  },
  {
   "cell_type": "markdown",
   "metadata": {},
   "source": [
    "# Grid search"
   ]
  },
  {
   "cell_type": "code",
   "execution_count": 10,
   "metadata": {
    "collapsed": false
   },
   "outputs": [
    {
     "name": "stdout",
     "output_type": "stream",
     "text": [
      "Best: 0.687500 using {'epochs': 10, 'batch_size': 5, 'init': 'normal', 'optimizer': 'adam'}\n",
      "0.635417 (0.034987) with: {'epochs': 5, 'batch_size': 5, 'init': 'glorot_uniform', 'optimizer': 'rmsprop'}\n",
      "0.653646 (0.027498) with: {'epochs': 5, 'batch_size': 5, 'init': 'glorot_uniform', 'optimizer': 'adam'}\n",
      "0.664063 (0.022999) with: {'epochs': 5, 'batch_size': 5, 'init': 'normal', 'optimizer': 'rmsprop'}\n",
      "0.661458 (0.008027) with: {'epochs': 5, 'batch_size': 5, 'init': 'normal', 'optimizer': 'adam'}\n",
      "0.652344 (0.022999) with: {'epochs': 5, 'batch_size': 5, 'init': 'uniform', 'optimizer': 'rmsprop'}\n",
      "0.652344 (0.011049) with: {'epochs': 5, 'batch_size': 5, 'init': 'uniform', 'optimizer': 'adam'}\n",
      "0.641927 (0.020752) with: {'epochs': 10, 'batch_size': 5, 'init': 'glorot_uniform', 'optimizer': 'rmsprop'}\n",
      "0.641927 (0.017566) with: {'epochs': 10, 'batch_size': 5, 'init': 'glorot_uniform', 'optimizer': 'adam'}\n",
      "0.667969 (0.030758) with: {'epochs': 10, 'batch_size': 5, 'init': 'normal', 'optimizer': 'rmsprop'}\n",
      "0.687500 (0.008438) with: {'epochs': 10, 'batch_size': 5, 'init': 'normal', 'optimizer': 'adam'}\n",
      "0.653646 (0.024150) with: {'epochs': 10, 'batch_size': 5, 'init': 'uniform', 'optimizer': 'rmsprop'}\n",
      "0.679688 (0.019401) with: {'epochs': 10, 'batch_size': 5, 'init': 'uniform', 'optimizer': 'adam'}\n",
      "0.584635 (0.073657) with: {'epochs': 5, 'batch_size': 10, 'init': 'glorot_uniform', 'optimizer': 'rmsprop'}\n",
      "0.593750 (0.053083) with: {'epochs': 5, 'batch_size': 10, 'init': 'glorot_uniform', 'optimizer': 'adam'}\n",
      "0.644531 (0.022999) with: {'epochs': 5, 'batch_size': 10, 'init': 'normal', 'optimizer': 'rmsprop'}\n",
      "0.666667 (0.017566) with: {'epochs': 5, 'batch_size': 10, 'init': 'normal', 'optimizer': 'adam'}\n",
      "0.653646 (0.018136) with: {'epochs': 5, 'batch_size': 10, 'init': 'uniform', 'optimizer': 'rmsprop'}\n",
      "0.649740 (0.024360) with: {'epochs': 5, 'batch_size': 10, 'init': 'uniform', 'optimizer': 'adam'}\n",
      "0.658854 (0.014382) with: {'epochs': 10, 'batch_size': 10, 'init': 'glorot_uniform', 'optimizer': 'rmsprop'}\n",
      "0.643229 (0.024774) with: {'epochs': 10, 'batch_size': 10, 'init': 'glorot_uniform', 'optimizer': 'adam'}\n",
      "0.614583 (0.015073) with: {'epochs': 10, 'batch_size': 10, 'init': 'normal', 'optimizer': 'rmsprop'}\n",
      "0.680990 (0.016053) with: {'epochs': 10, 'batch_size': 10, 'init': 'normal', 'optimizer': 'adam'}\n",
      "0.656250 (0.022999) with: {'epochs': 10, 'batch_size': 10, 'init': 'uniform', 'optimizer': 'rmsprop'}\n",
      "0.682292 (0.004872) with: {'epochs': 10, 'batch_size': 10, 'init': 'uniform', 'optimizer': 'adam'}\n"
     ]
    }
   ],
   "source": [
    "# MLP for Pima Indians Dataset with grid search via sklearn\n",
    "from keras.models import Sequential\n",
    "from keras.layers import Dense\n",
    "from keras.wrappers.scikit_learn import KerasClassifier\n",
    "from sklearn.model_selection import GridSearchCV\n",
    "import numpy\n",
    "\n",
    "\n",
    "# Create model\n",
    "def create_model(optimizer= 'rmsprop', init='glorot_uniform'):\n",
    "    # create model\n",
    "    model = Sequential()\n",
    "    model.add(Dense(12, input_dim=8, kernel_initializer=init, activation='relu'))\n",
    "    model.add(Dense(8, kernel_initializer=init, activation='relu'))\n",
    "    model.add(Dense(1, kernel_initializer=init, activation='sigmoid'))\n",
    "    # Compile model\n",
    "    model.compile(loss='binary_crossentropy', optimizer=optimizer, metrics=['accuracy'])\n",
    "    return model\n",
    "\n",
    "\n",
    "# fix random seed for reproducibility\n",
    "seed = 7\n",
    "numpy.random.seed(seed)\n",
    "# load pima indians dataset\n",
    "dataset = numpy.loadtxt(\"pima-indians-diabetes.csv\", delimiter=\",\")\n",
    "# split into input (X) and output (Y) variables\n",
    "X = dataset[:,0:8]\n",
    "Y = dataset[:,8]\n",
    "# create model\n",
    "model = KerasClassifier(build_fn=create_model, verbose=0)\n",
    "\n",
    "\n",
    "# Grid serach\n",
    "optimizers = ['rmsprop', 'adam']\n",
    "inits = ['glorot_uniform', 'normal', 'uniform']\n",
    "epochs = [5, 10]\n",
    "batches = [5, 10]\n",
    "\n",
    "\n",
    "param_grid= dict(optimizer=optimizers, epochs=epochs, batch_size=batches, init=inits)\n",
    "\n",
    "grid = GridSearchCV(estimator=model, param_grid=param_grid)\n",
    "grid_result = grid.fit(X, Y)\n",
    "\n",
    "# summarize results\n",
    "print(\"Best: %f using %s\" % (grid_result.best_score_, grid_result.best_params_))\n",
    "means = grid_result.cv_results_['mean_test_score']\n",
    "stds = grid_result.cv_results_['std_test_score']\n",
    "params = grid_result.cv_results_['params']\n",
    "for mean, stdev, param in zip(means, stds, params):\n",
    "    print(\"%f (%f) with: %r\" % (mean, stdev, param))"
   ]
  }
 ],
 "metadata": {
  "anaconda-cloud": {},
  "kernelspec": {
   "display_name": "Python [Root]",
   "language": "python",
   "name": "Python [Root]"
  },
  "language_info": {
   "codemirror_mode": {
    "name": "ipython",
    "version": 3
   },
   "file_extension": ".py",
   "mimetype": "text/x-python",
   "name": "python",
   "nbconvert_exporter": "python",
   "pygments_lexer": "ipython3",
   "version": "3.5.3"
  }
 },
 "nbformat": 4,
 "nbformat_minor": 0
}
